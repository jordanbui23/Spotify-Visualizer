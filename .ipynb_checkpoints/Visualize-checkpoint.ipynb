{
 "cells": [
  {
   "cell_type": "code",
   "execution_count": 1,
   "id": "8becceb7-28e3-4479-a167-3965d61c7512",
   "metadata": {},
   "outputs": [],
   "source": [
    "import pandas as pd\n",
    "import numpy as np\n",
    "import requests"
   ]
  },
  {
   "cell_type": "code",
   "execution_count": null,
   "id": "fe719413-e97d-40c0-96ba-347a1ee957ad",
   "metadata": {},
   "outputs": [],
   "source": [
    "df_stream0 = pd.read_json('StreamingHistory0.json')\n",
    "df_stream1 = pd.read_json('streamingHistory1.json')\n",
    "\n",
    "# merge streaming dataframes\n",
    "df_stream = pd.concat([df_stream0, df_stream1])"
   ]
  }
 ],
 "metadata": {
  "kernelspec": {
   "display_name": "Python 3 (ipykernel)",
   "language": "python",
   "name": "python3"
  },
  "language_info": {
   "codemirror_mode": {
    "name": "ipython",
    "version": 3
   },
   "file_extension": ".py",
   "mimetype": "text/x-python",
   "name": "python",
   "nbconvert_exporter": "python",
   "pygments_lexer": "ipython3",
   "version": "3.10.4"
  }
 },
 "nbformat": 4,
 "nbformat_minor": 5
}
